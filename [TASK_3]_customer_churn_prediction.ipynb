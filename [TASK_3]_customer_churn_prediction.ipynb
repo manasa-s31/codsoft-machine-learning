{
  "nbformat": 4,
  "nbformat_minor": 0,
  "metadata": {
    "colab": {
      "provenance": []
    },
    "kernelspec": {
      "name": "python3",
      "display_name": "Python 3"
    },
    "language_info": {
      "name": "python"
    }
  },
  "cells": [
    {
      "cell_type": "markdown",
      "source": [
        "importing dependencies"
      ],
      "metadata": {
        "id": "7P1BZgNvb429"
      }
    },
    {
      "cell_type": "code",
      "source": [
        "import pandas as pd\n",
        "from sklearn.model_selection import train_test_split\n",
        "from sklearn.preprocessing import LabelEncoder, StandardScaler\n",
        "from sklearn.metrics import accuracy_score, classification_report\n",
        "from sklearn.linear_model import LogisticRegression\n",
        "from sklearn.ensemble import RandomForestClassifier, GradientBoostingClassifier\n",
        "from imblearn.over_sampling import SMOTE"
      ],
      "metadata": {
        "id": "2aE04iEFyQuN"
      },
      "execution_count": 1,
      "outputs": []
    },
    {
      "cell_type": "markdown",
      "source": [
        "loading datasets"
      ],
      "metadata": {
        "id": "pL2jBi9st98G"
      }
    },
    {
      "cell_type": "code",
      "source": [
        "data = pd.read_csv('Churn_Modelling.csv')"
      ],
      "metadata": {
        "id": "8WavsRVBt9RR"
      },
      "execution_count": 2,
      "outputs": []
    },
    {
      "cell_type": "code",
      "source": [
        "data = data.drop(columns=['RowNumber', 'CustomerId', 'Surname'])"
      ],
      "metadata": {
        "id": "Bzl0K8_R7WDm"
      },
      "execution_count": 3,
      "outputs": []
    },
    {
      "cell_type": "code",
      "source": [
        "print(data.head())\n",
        "print(data.tail())\n",
        "print(data.describe())\n",
        "print(data.isnull().sum)\n",
        "print(data.count())\n",
        "print(data.shape)"
      ],
      "metadata": {
        "colab": {
          "base_uri": "https://localhost:8080/"
        },
        "id": "EGsRkVPhjEUG",
        "outputId": "b96bfd8b-9250-4840-fb63-72a903bd970d"
      },
      "execution_count": 10,
      "outputs": [
        {
          "output_type": "stream",
          "name": "stdout",
          "text": [
            "   CreditScore Geography  Gender  Age  Tenure    Balance  NumOfProducts  \\\n",
            "0          619    France  Female   42       2       0.00              1   \n",
            "1          608     Spain  Female   41       1   83807.86              1   \n",
            "2          502    France  Female   42       8  159660.80              3   \n",
            "3          699    France  Female   39       1       0.00              2   \n",
            "4          850     Spain  Female   43       2  125510.82              1   \n",
            "\n",
            "   HasCrCard  IsActiveMember  EstimatedSalary  Exited  \n",
            "0          1               1        101348.88       1  \n",
            "1          0               1        112542.58       0  \n",
            "2          1               0        113931.57       1  \n",
            "3          0               0         93826.63       0  \n",
            "4          1               1         79084.10       0  \n",
            "      CreditScore Geography  Gender  Age  Tenure    Balance  NumOfProducts  \\\n",
            "9995          771    France    Male   39       5       0.00              2   \n",
            "9996          516    France    Male   35      10   57369.61              1   \n",
            "9997          709    France  Female   36       7       0.00              1   \n",
            "9998          772   Germany    Male   42       3   75075.31              2   \n",
            "9999          792    France  Female   28       4  130142.79              1   \n",
            "\n",
            "      HasCrCard  IsActiveMember  EstimatedSalary  Exited  \n",
            "9995          1               0         96270.64       0  \n",
            "9996          1               1        101699.77       0  \n",
            "9997          0               1         42085.58       1  \n",
            "9998          1               0         92888.52       1  \n",
            "9999          1               0         38190.78       0  \n",
            "        CreditScore           Age        Tenure        Balance  NumOfProducts  \\\n",
            "count  10000.000000  10000.000000  10000.000000   10000.000000   10000.000000   \n",
            "mean     650.528800     38.921800      5.012800   76485.889288       1.530200   \n",
            "std       96.653299     10.487806      2.892174   62397.405202       0.581654   \n",
            "min      350.000000     18.000000      0.000000       0.000000       1.000000   \n",
            "25%      584.000000     32.000000      3.000000       0.000000       1.000000   \n",
            "50%      652.000000     37.000000      5.000000   97198.540000       1.000000   \n",
            "75%      718.000000     44.000000      7.000000  127644.240000       2.000000   \n",
            "max      850.000000     92.000000     10.000000  250898.090000       4.000000   \n",
            "\n",
            "         HasCrCard  IsActiveMember  EstimatedSalary        Exited  \n",
            "count  10000.00000    10000.000000     10000.000000  10000.000000  \n",
            "mean       0.70550        0.515100    100090.239881      0.203700  \n",
            "std        0.45584        0.499797     57510.492818      0.402769  \n",
            "min        0.00000        0.000000        11.580000      0.000000  \n",
            "25%        0.00000        0.000000     51002.110000      0.000000  \n",
            "50%        1.00000        1.000000    100193.915000      0.000000  \n",
            "75%        1.00000        1.000000    149388.247500      0.000000  \n",
            "max        1.00000        1.000000    199992.480000      1.000000  \n",
            "<bound method DataFrame.sum of       CreditScore  Geography  Gender    Age  Tenure  Balance  NumOfProducts  \\\n",
            "0           False      False   False  False   False    False          False   \n",
            "1           False      False   False  False   False    False          False   \n",
            "2           False      False   False  False   False    False          False   \n",
            "3           False      False   False  False   False    False          False   \n",
            "4           False      False   False  False   False    False          False   \n",
            "...           ...        ...     ...    ...     ...      ...            ...   \n",
            "9995        False      False   False  False   False    False          False   \n",
            "9996        False      False   False  False   False    False          False   \n",
            "9997        False      False   False  False   False    False          False   \n",
            "9998        False      False   False  False   False    False          False   \n",
            "9999        False      False   False  False   False    False          False   \n",
            "\n",
            "      HasCrCard  IsActiveMember  EstimatedSalary  Exited  \n",
            "0         False           False            False   False  \n",
            "1         False           False            False   False  \n",
            "2         False           False            False   False  \n",
            "3         False           False            False   False  \n",
            "4         False           False            False   False  \n",
            "...         ...             ...              ...     ...  \n",
            "9995      False           False            False   False  \n",
            "9996      False           False            False   False  \n",
            "9997      False           False            False   False  \n",
            "9998      False           False            False   False  \n",
            "9999      False           False            False   False  \n",
            "\n",
            "[10000 rows x 11 columns]>\n",
            "CreditScore        10000\n",
            "Geography          10000\n",
            "Gender             10000\n",
            "Age                10000\n",
            "Tenure             10000\n",
            "Balance            10000\n",
            "NumOfProducts      10000\n",
            "HasCrCard          10000\n",
            "IsActiveMember     10000\n",
            "EstimatedSalary    10000\n",
            "Exited             10000\n",
            "dtype: int64\n",
            "(10000, 11)\n"
          ]
        }
      ]
    },
    {
      "cell_type": "markdown",
      "source": [
        "encoding variables"
      ],
      "metadata": {
        "id": "sk6_Goi-uD-w"
      }
    },
    {
      "cell_type": "code",
      "source": [
        "label_encoders = {}\n",
        "for column in ['Geography', 'Gender']:\n",
        "    le = LabelEncoder()\n",
        "    data[column] = le.fit_transform(data[column])\n",
        "    label_encoders[column] = le"
      ],
      "metadata": {
        "id": "P-HLfPig0j34"
      },
      "execution_count": 11,
      "outputs": []
    },
    {
      "cell_type": "markdown",
      "source": [
        "splitting features from target"
      ],
      "metadata": {
        "id": "RbyK5f33uIRb"
      }
    },
    {
      "cell_type": "code",
      "source": [
        "X = data.drop(columns=['Exited'])\n",
        "y = data['Exited']"
      ],
      "metadata": {
        "id": "jEstiLuD40SP"
      },
      "execution_count": 12,
      "outputs": []
    },
    {
      "cell_type": "markdown",
      "source": [
        "normalising data"
      ],
      "metadata": {
        "id": "T41GHHsYuiCR"
      }
    },
    {
      "cell_type": "code",
      "source": [
        "scaler = StandardScaler()\n",
        "X_scaled = scaler.fit_transform(X)"
      ],
      "metadata": {
        "id": "qmVsqeJFujZz"
      },
      "execution_count": 14,
      "outputs": []
    },
    {
      "cell_type": "code",
      "source": [
        "X_train, X_test, y_train, y_test = train_test_split(X_scaled, y, test_size=0.2, random_state=42)"
      ],
      "metadata": {
        "id": "eYkJxP0DiCDE"
      },
      "execution_count": 15,
      "outputs": []
    },
    {
      "cell_type": "markdown",
      "source": [
        "handling imbalance\n"
      ],
      "metadata": {
        "id": "5JhWSEcu47DR"
      }
    },
    {
      "cell_type": "code",
      "source": [
        "smote = SMOTE(random_state=42)\n",
        "X_train_resampled, y_train_resampled = smote.fit_resample(X_train, y_train)"
      ],
      "metadata": {
        "colab": {
          "base_uri": "https://localhost:8080/"
        },
        "id": "9JpPpcFD490u",
        "outputId": "b8e8348d-fffa-4ce7-8cf7-5eafbe2d3dfb"
      },
      "execution_count": 16,
      "outputs": [
        {
          "output_type": "stream",
          "name": "stderr",
          "text": [
            "/usr/local/lib/python3.10/dist-packages/sklearn/base.py:474: FutureWarning: `BaseEstimator._validate_data` is deprecated in 1.6 and will be removed in 1.7. Use `sklearn.utils.validation.validate_data` instead. This function becomes public and is part of the scikit-learn developer API.\n",
            "  warnings.warn(\n",
            "/usr/local/lib/python3.10/dist-packages/sklearn/utils/_tags.py:354: FutureWarning: The SMOTE or classes from which it inherits use `_get_tags` and `_more_tags`. Please define the `__sklearn_tags__` method, or inherit from `sklearn.base.BaseEstimator` and/or other appropriate mixins such as `sklearn.base.TransformerMixin`, `sklearn.base.ClassifierMixin`, `sklearn.base.RegressorMixin`, and `sklearn.base.OutlierMixin`. From scikit-learn 1.7, not defining `__sklearn_tags__` will raise an error.\n",
            "  warnings.warn(\n"
          ]
        }
      ]
    },
    {
      "cell_type": "markdown",
      "source": [
        "logistic regression\n",
        "\n"
      ],
      "metadata": {
        "id": "EszHNeyGun7b"
      }
    },
    {
      "cell_type": "code",
      "source": [
        "model_lr = LogisticRegression(random_state=42)\n",
        "model_lr.fit(X_train, y_train)\n",
        "\n",
        "predictions_lr = model_lr.predict(X_test)\n",
        "\n",
        "accuracy_lr = accuracy_score(y_test, predictions_lr)\n",
        "report_lr = classification_report(y_test, predictions_lr, zero_division=0)\n",
        "\n",
        "print(\"\\nLogistic Regression:\")\n",
        "print(f\"Accuracy: {accuracy_lr:.2f}\")\n",
        "print(\"Classification Report:\")\n",
        "print(report_lr)"
      ],
      "metadata": {
        "colab": {
          "base_uri": "https://localhost:8080/"
        },
        "id": "ncC7t00Cupnf",
        "outputId": "96988652-6b76-4ca0-b702-3c88b30f5bd5"
      },
      "execution_count": 17,
      "outputs": [
        {
          "output_type": "stream",
          "name": "stdout",
          "text": [
            "\n",
            "Logistic Regression:\n",
            "Accuracy: 0.82\n",
            "Classification Report:\n",
            "              precision    recall  f1-score   support\n",
            "\n",
            "           0       0.83      0.97      0.89      1607\n",
            "           1       0.60      0.18      0.28       393\n",
            "\n",
            "    accuracy                           0.82      2000\n",
            "   macro avg       0.71      0.58      0.59      2000\n",
            "weighted avg       0.78      0.82      0.77      2000\n",
            "\n"
          ]
        }
      ]
    },
    {
      "cell_type": "markdown",
      "source": [
        "random forest"
      ],
      "metadata": {
        "id": "niODXvsNil2l"
      }
    },
    {
      "cell_type": "code",
      "source": [
        "model_rf = RandomForestClassifier(random_state=42)\n",
        "model_rf.fit(X_train, y_train)\n",
        "\n",
        "predictions_rf = model_rf.predict(X_test)\n",
        "\n",
        "accuracy_rf = accuracy_score(y_test, predictions_rf)\n",
        "report_rf = classification_report(y_test, predictions_rf, zero_division=0)\n",
        "\n",
        "print(\"\\nRandom Forest:\")\n",
        "print(f\"Accuracy: {accuracy_rf:.2f}\")\n",
        "print(\"Classification Report:\")\n",
        "print(report_rf)"
      ],
      "metadata": {
        "colab": {
          "base_uri": "https://localhost:8080/"
        },
        "id": "POKU0qt4ioEi",
        "outputId": "2b2f652a-7d96-4a4b-b68a-7be248512e00"
      },
      "execution_count": 18,
      "outputs": [
        {
          "output_type": "stream",
          "name": "stdout",
          "text": [
            "\n",
            "Random Forest:\n",
            "Accuracy: 0.86\n",
            "Classification Report:\n",
            "              precision    recall  f1-score   support\n",
            "\n",
            "           0       0.88      0.96      0.92      1607\n",
            "           1       0.75      0.47      0.57       393\n",
            "\n",
            "    accuracy                           0.86      2000\n",
            "   macro avg       0.81      0.71      0.75      2000\n",
            "weighted avg       0.85      0.86      0.85      2000\n",
            "\n"
          ]
        }
      ]
    },
    {
      "cell_type": "markdown",
      "source": [
        "gradient boosting"
      ],
      "metadata": {
        "id": "b8ZAOmXOisCl"
      }
    },
    {
      "cell_type": "code",
      "source": [
        "model_gb = GradientBoostingClassifier(random_state=42)\n",
        "model_gb.fit(X_train, y_train)\n",
        "\n",
        "predictions_gb = model_gb.predict(X_test)\n",
        "\n",
        "accuracy_gb = accuracy_score(y_test, predictions_gb)\n",
        "report_gb = classification_report(y_test, predictions_gb, zero_division=0)\n",
        "\n",
        "print(\"\\nGradient Boosting:\")\n",
        "print(f\"Accuracy: {accuracy_gb:.2f}\")\n",
        "print(\"Classification Report:\")\n",
        "print(report_gb)"
      ],
      "metadata": {
        "colab": {
          "base_uri": "https://localhost:8080/"
        },
        "id": "gYFM0mboitiI",
        "outputId": "b35abe64-3972-48ca-cf63-72c4e46ba2e1"
      },
      "execution_count": 19,
      "outputs": [
        {
          "output_type": "stream",
          "name": "stdout",
          "text": [
            "\n",
            "Gradient Boosting:\n",
            "Accuracy: 0.87\n",
            "Classification Report:\n",
            "              precision    recall  f1-score   support\n",
            "\n",
            "           0       0.88      0.96      0.92      1607\n",
            "           1       0.76      0.47      0.58       393\n",
            "\n",
            "    accuracy                           0.87      2000\n",
            "   macro avg       0.82      0.72      0.75      2000\n",
            "weighted avg       0.86      0.87      0.85      2000\n",
            "\n"
          ]
        }
      ]
    }
  ]
}